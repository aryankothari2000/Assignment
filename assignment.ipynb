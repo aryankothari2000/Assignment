{
 "cells": [
  {
   "cell_type": "code",
   "execution_count": 1,
   "id": "5e1dfe13-9f07-48ed-9779-016248451a79",
   "metadata": {},
   "outputs": [
    {
     "name": "stdout",
     "output_type": "stream",
     "text": [
      "      Timestamp Buy/Sell          BaseCurrencyQty       QouteCurrencyQty  \\\n",
      "0    1620685831      Buy    34.400437477326682886     0.3169844529710196   \n",
      "1    1620685488      Buy  1837.193463368265738921  16.938651219163264937   \n",
      "2    1620685430     Sell    70.418530000104638578              0.6535153   \n",
      "3    1620685390     Sell    24.554992824430184142              0.2278746   \n",
      "4    1620685384     Sell                      200   1.855903137552076509   \n",
      "..          ...      ...                      ...                    ...   \n",
      "145  1620664885      Buy  1060.663750629319006766  10.037671483038143901   \n",
      "146  1620664759      Buy   5020.40079247142564443                47.6009   \n",
      "147  1620664759      Buy  3418.315400184930840828  32.495879456391592303   \n",
      "148  1620664376      Buy                5.0531337   0.048088250096116245   \n",
      "149  1620664034     Sell  2889.148999999999705088  27.635427553462162654   \n",
      "\n",
      "                         LiquidityInPool  \\\n",
      "0    6036321461.271395648332232091775348   \n",
      "1    6036321461.271395648332232091775348   \n",
      "2    6036321461.271395648332232091775348   \n",
      "3    6036321461.271395648332232091775348   \n",
      "4    6036321461.271395648332232091775348   \n",
      "..                                   ...   \n",
      "145  6036321461.271395648332232091775348   \n",
      "146  6036321461.271395648332232091775348   \n",
      "147  6036321461.271395648332232091775348   \n",
      "148  6036321461.271395648332232091775348   \n",
      "149  6036321461.271395648332232091775348   \n",
      "\n",
      "                                         PoolID  \n",
      "0    0xd3d2e2692501a5c9ca623199d38826e513033a17  \n",
      "1    0xd3d2e2692501a5c9ca623199d38826e513033a17  \n",
      "2    0xd3d2e2692501a5c9ca623199d38826e513033a17  \n",
      "3    0xd3d2e2692501a5c9ca623199d38826e513033a17  \n",
      "4    0xd3d2e2692501a5c9ca623199d38826e513033a17  \n",
      "..                                          ...  \n",
      "145  0xd3d2e2692501a5c9ca623199d38826e513033a17  \n",
      "146  0xd3d2e2692501a5c9ca623199d38826e513033a17  \n",
      "147  0xd3d2e2692501a5c9ca623199d38826e513033a17  \n",
      "148  0xd3d2e2692501a5c9ca623199d38826e513033a17  \n",
      "149  0xd3d2e2692501a5c9ca623199d38826e513033a17  \n",
      "\n",
      "[150 rows x 6 columns]\n"
     ]
    }
   ],
   "source": [
    "import json\n",
    "import pandas as pd\n",
    "f = open(r'C:\\Users\\LENOVO\\Desktop\\sample.json',)\n",
    "data = json.load(f)\n",
    "df = pd.DataFrame()\n",
    "t1 = data['swaps']\n",
    "entry1 = []\n",
    "entry2 = []\n",
    "entry3 = []\n",
    "entry4 = []\n",
    "entry5 = []\n",
    "entry6 = []\n",
    "for i in t1:\n",
    " entry1.append(i.get('timestamp'))\n",
    " if(i.get('amount0In') == '0'):\n",
    "    entry2.append('Sell')\n",
    "    entry3.append(i.get('amount0Out'))\n",
    "    entry4.append(i.get('amount1In'))\n",
    " else:\n",
    "    entry2.append('Buy')\n",
    "    entry3.append(i.get('amount0In'))\n",
    "    entry4.append(i.get('amount1Out'))\n",
    "\n",
    "for i in data['swaps']:\n",
    "    entry5.append(i['pair']['volumeUSD'])\n",
    "    entry6.append(i['pair']['id'])\n",
    "df['Timestamp'] = entry1\n",
    "df['Buy/Sell'] = entry2\n",
    "df['BaseCurrencyQty'] = entry3\n",
    "df['QouteCurrencyQty'] = entry4\n",
    "df['LiquidityInPool'] = entry5\n",
    "df['PoolID'] = entry6\n",
    "print(df)\n",
    "f.close()\n"
   ]
  },
  {
   "cell_type": "code",
   "execution_count": 26,
   "id": "285407bf-d91d-4ccd-9848-87bef6d90170",
   "metadata": {},
   "outputs": [
    {
     "data": {
      "image/png": "[encoded data removed]",
      "text/plain": [
       "<Figure size 432x288 with 1 Axes>"
      ]
     },
     "metadata": {
      "needs_background": "light"
     },
     "output_type": "display_data"
    }
   ],
   "source": [
    "import matplotlib.pyplot as plt\n",
    "import numpy as np\n",
    "plt.hist(entry3)\n",
    "plt.grid(axis='y', alpha=0.75)\n",
    "plt.xlabel('Base currency Quantity',fontsize=15)\n",
    "plt.ylabel('No.of Transactions',fontsize=15)\n",
    "plt.title('Base Currency Quantity Traded',fontsize=15)\n",
    "plt.show()"
   ]
  },
  {
   "cell_type": "code",
   "execution_count": null,
   "id": "1ab63a84-b3b3-4812-b2e0-b1d4672ae48c",
   "metadata": {},
   "outputs": [],
   "source": []
  },
  {
   "cell_type": "code",
   "execution_count": null,
   "id": "71e93093-0ed2-4ea0-a0e8-3027c4730409",
   "metadata": {},
   "outputs": [],
   "source": []
  }
 ],
 "metadata": {
  "kernelspec": {
   "display_name": "Python 3",
   "language": "python",
   "name": "python3"
  },
  "language_info": {
   "codemirror_mode": {
    "name": "ipython",
    "version": 3
   },
   "file_extension": ".py",
   "mimetype": "text/x-python",
   "name": "python",
   "nbconvert_exporter": "python",
   "pygments_lexer": "ipython3",
   "version": "3.8.1"
  }
 },
 "nbformat": 4,
 "nbformat_minor": 5
}
